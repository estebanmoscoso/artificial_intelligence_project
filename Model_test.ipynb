{
  "cells": [
    {
      "cell_type": "markdown",
      "metadata": {
        "id": "view-in-github",
        "colab_type": "text"
      },
      "source": [
        "<a href=\"https://colab.research.google.com/github/estebanmoscoso/artificial_intelligence_project/blob/main/Model_test.ipynb\" target=\"_parent\"><img src=\"https://colab.research.google.com/assets/colab-badge.svg\" alt=\"Open In Colab\"/></a>"
      ]
    },
    {
      "cell_type": "markdown",
      "metadata": {
        "id": "myAtrZ7kE3_e"
      },
      "source": [
        "#Execute Model"
      ]
    },
    {
      "cell_type": "code",
      "execution_count": null,
      "metadata": {
        "colab": {
          "base_uri": "https://localhost:8080/"
        },
        "id": "6NDYnqtgkBHA",
        "outputId": "ac970d96-fc8a-43c4-c569-1dcbdca757fc"
      },
      "outputs": [
        {
          "output_type": "stream",
          "name": "stdout",
          "text": [
            "Cloning into 'CheXNet'...\n",
            "remote: Enumerating objects: 62, done.\u001b[K\n",
            "remote: Counting objects: 100% (10/10), done.\u001b[K\n",
            "remote: Compressing objects: 100% (5/5), done.\u001b[K\n",
            "remote: Total 62 (delta 6), reused 5 (delta 5), pack-reused 52\u001b[K\n",
            "Unpacking objects: 100% (62/62), done.\n"
          ]
        }
      ],
      "source": [
        "!git  clone https://github.com/arnoweng/CheXNet.git"
      ]
    },
    {
      "cell_type": "code",
      "execution_count": null,
      "metadata": {
        "id": "T3L1BQ1DkouF"
      },
      "outputs": [],
      "source": [
        "%cp ./drive/Shareddrives/Universidad/images.rar ./CheXNet/ChestX-ray14/"
      ]
    },
    {
      "cell_type": "code",
      "execution_count": null,
      "metadata": {
        "colab": {
          "base_uri": "https://localhost:8080/"
        },
        "id": "HWraQFd9kgSi",
        "outputId": "1ef4cd20-fdbb-4f02-e512-2b6b8ee40b6b"
      },
      "outputs": [
        {
          "output_type": "stream",
          "name": "stdout",
          "text": [
            "Reading package lists... Done\n",
            "Building dependency tree       \n",
            "Reading state information... Done\n",
            "unrar is already the newest version (1:5.5.8-1).\n",
            "The following package was automatically installed and is no longer required:\n",
            "  libnvidia-common-460\n",
            "Use 'sudo apt autoremove' to remove it.\n",
            "0 upgraded, 0 newly installed, 0 to remove and 49 not upgraded.\n"
          ]
        }
      ],
      "source": [
        "!sudo apt install unrar"
      ]
    },
    {
      "cell_type": "code",
      "execution_count": null,
      "metadata": {
        "id": "I9LGpGlOkUTM"
      },
      "outputs": [],
      "source": [
        "!unrar x /content/CheXNet/ChestX-ray14/images.rar /content/CheXNet/ChestX-ray14/"
      ]
    },
    {
      "cell_type": "code",
      "execution_count": null,
      "metadata": {
        "colab": {
          "base_uri": "https://localhost:8080/"
        },
        "id": "iLtBOH8glcJr",
        "outputId": "0b8f45dd-7d85-4bda-b414-405b02dbfc29"
      },
      "outputs": [
        {
          "output_type": "stream",
          "name": "stdout",
          "text": [
            "/content/CheXNet\n"
          ]
        }
      ],
      "source": [
        "%cd /content/CheXNet/"
      ]
    },
    {
      "cell_type": "code",
      "source": [
        "%pwd"
      ],
      "metadata": {
        "colab": {
          "base_uri": "https://localhost:8080/",
          "height": 35
        },
        "id": "72k_YPXDp9Ao",
        "outputId": "5bb5be38-fede-4889-8b98-25e6ccb35af6"
      },
      "execution_count": null,
      "outputs": [
        {
          "output_type": "execute_result",
          "data": {
            "text/plain": [
              "'/content/CheXNet'"
            ],
            "application/vnd.google.colaboratory.intrinsic+json": {
              "type": "string"
            }
          },
          "metadata": {},
          "execution_count": 47
        }
      ]
    },
    {
      "cell_type": "code",
      "source": [
        "!find ./ChestX-ray14/images/ -iname 00000010_000.png"
      ],
      "metadata": {
        "colab": {
          "base_uri": "https://localhost:8080/"
        },
        "id": "WlMLBSr5nHdl",
        "outputId": "dd361e52-53c5-41c4-dbf9-c3972a51209f"
      },
      "execution_count": null,
      "outputs": [
        {
          "output_type": "stream",
          "name": "stdout",
          "text": [
            "./ChestX-ray14/images/00000010_000.png\n"
          ]
        }
      ]
    },
    {
      "cell_type": "code",
      "source": [
        "%ls ./ChestX-ray14/images/"
      ],
      "metadata": {
        "id": "IS-dxpN5njeZ"
      },
      "execution_count": null,
      "outputs": []
    },
    {
      "cell_type": "code",
      "execution_count": null,
      "metadata": {
        "colab": {
          "base_uri": "https://localhost:8080/"
        },
        "id": "LjfPmMN6leVo",
        "outputId": "80422ab7-c5ba-4d0e-cb1a-d4e77efc84fc"
      },
      "outputs": [
        {
          "output_type": "stream",
          "name": "stdout",
          "text": [
            "/usr/local/lib/python3.7/dist-packages/torchvision/models/_utils.py:209: UserWarning: The parameter 'pretrained' is deprecated since 0.13 and will be removed in 0.15, please use 'weights' instead.\n",
            "  f\"The parameter '{pretrained_param}' is deprecated since 0.13 and will be removed in 0.15, \"\n",
            "/usr/local/lib/python3.7/dist-packages/torchvision/models/_utils.py:223: UserWarning: Arguments other than a weight enum or `None` for 'weights' are deprecated since 0.13 and will be removed in 0.15. The current behavior is equivalent to passing `weights=DenseNet121_Weights.IMAGENET1K_V1`. You can also use `weights=DenseNet121_Weights.DEFAULT` to get the most up-to-date weights.\n",
            "  warnings.warn(msg)\n",
            "=> loading checkpoint\n",
            "=> loaded checkpoint\n",
            "/usr/local/lib/python3.7/dist-packages/torch/utils/data/dataloader.py:560: UserWarning: This DataLoader will create 4 worker processes in total. Our suggested max number of worker in current system is 2, which is smaller than what this DataLoader is going to create. Please be aware that excessive worker creation might get DataLoader running slow or even freeze, lower the worker number to avoid potential slowness/freeze if necessary.\n",
            "  cpuset_checked))\n",
            "The average AUROC is 0.568\n",
            "The AUROC of Atelectasis is 0.5078298176433252\n",
            "The AUROC of Cardiomegaly is 0.5815883850023927\n",
            "The AUROC of Effusion is 0.5701132811250196\n",
            "The AUROC of Infiltration is 0.5726057349308991\n",
            "The AUROC of Mass is 0.5268343837665593\n",
            "The AUROC of Nodule is 0.5597427627731901\n",
            "The AUROC of Pneumonia is 0.526778967424438\n",
            "The AUROC of Pneumothorax is 0.5709291101694333\n",
            "The AUROC of Consolidation is 0.6265455516624423\n",
            "The AUROC of Edema is 0.6626812406946799\n",
            "The AUROC of Emphysema is 0.5207653408147954\n",
            "The AUROC of Fibrosis is 0.5779731208998784\n",
            "The AUROC of Pleural_Thickening is 0.547012017153693\n",
            "The AUROC of Hernia is 0.6015581302861907\n"
          ]
        }
      ],
      "source": [
        "!python model.py"
      ]
    },
    {
      "cell_type": "markdown",
      "metadata": {
        "id": "pSUgX4ecG1SF"
      },
      "source": [
        "#-----------------------------  NO ----------------------------- "
      ]
    },
    {
      "cell_type": "code",
      "execution_count": null,
      "metadata": {
        "colab": {
          "base_uri": "https://localhost:8080/"
        },
        "id": "afOOv1yutjyb",
        "outputId": "b1f7c0be-1113-4325-a2b5-8931a268bc45"
      },
      "outputs": [
        {
          "name": "stdout",
          "output_type": "stream",
          "text": [
            "downloadingimages_03.tar.gz...\n",
            "Download complete. Please check the checksums\n"
          ]
        }
      ],
      "source": [
        "# Download the 56 zip files in Images_png in batches\n",
        "import urllib.request\n",
        "\n",
        "# URLs for the zip files\n",
        "links = [\n",
        "    'https://nihcc.box.com/shared/static/vfk49d74nhbxq3nqjg0900w5nvkorp5c.gz',\n",
        "    'https://nihcc.box.com/shared/static/i28rlmbvmfjbl8p2n3ril0pptcmcu9d1.gz',\n",
        "    'https://nihcc.box.com/shared/static/f1t00wrtdk94satdfb9olcolqx20z2jp.gz',\n",
        "\t'https://nihcc.box.com/shared/static/0aowwzs5lhjrceb3qp67ahp0rd1l1etg.gz',\n",
        "    'https://nihcc.box.com/shared/static/v5e3goj22zr6h8tzualxfsqlqaygfbsn.gz',\n",
        "\t'https://nihcc.box.com/shared/static/asi7ikud9jwnkrnkj99jnpfkjdes7l6l.gz',\n",
        "\t'https://nihcc.box.com/shared/static/jn1b4mw4n6lnh74ovmcjb8y48h8xj07n.gz',\n",
        "    'https://nihcc.box.com/shared/static/tvpxmn7qyrgl0w8wfh9kqfjskv6nmm1j.gz',\n",
        "\t'https://nihcc.box.com/shared/static/upyy3ml7qdumlgk2rfcvlb9k6gvqq2pj.gz',\n",
        "\t'https://nihcc.box.com/shared/static/l6nilvfa9cg3s28tqv1qc1olm3gnz54p.gz',\n",
        "\t'https://nihcc.box.com/shared/static/hhq8fkdgvcari67vfhs7ppg2w6ni4jze.gz',\n",
        "\t'https://nihcc.box.com/shared/static/ioqwiy20ihqwyr8pf4c24eazhh281pbu.gz'\n",
        "]\n",
        "\n",
        "for idx, link in enumerate(links):\n",
        "    if idx == 2:\n",
        "      fn = 'images_%02d.tar.gz' % (idx+1)\n",
        "      print('downloading'+fn+'...')\n",
        "      urllib.request.urlretrieve(link, fn)  # download the zip file\n",
        "\n",
        "print(\"Download complete. Please check the checksums\")"
      ]
    },
    {
      "cell_type": "code",
      "execution_count": null,
      "metadata": {
        "colab": {
          "base_uri": "https://localhost:8080/"
        },
        "id": "xtv3qNPOupCL",
        "outputId": "43cd2e8b-c5cd-49fb-cfa2-65bbfe433bb3"
      },
      "outputs": [
        {
          "name": "stdout",
          "output_type": "stream",
          "text": [
            "Cloning into 'CheXNet'...\n",
            "remote: Enumerating objects: 62, done.\u001b[K\n",
            "remote: Counting objects: 100% (10/10), done.\u001b[K\n",
            "remote: Compressing objects: 100% (5/5), done.\u001b[K\n",
            "remote: Total 62 (delta 6), reused 5 (delta 5), pack-reused 52\u001b[K\n",
            "Unpacking objects: 100% (62/62), done.\n"
          ]
        }
      ],
      "source": [
        "!git clone https://github.com/arnoweng/CheXNet.git"
      ]
    },
    {
      "cell_type": "code",
      "execution_count": null,
      "metadata": {
        "id": "0gezy-4Auo-d"
      },
      "outputs": [],
      "source": [
        "!tar -xvf 'drive/Shareddrives/Universidad/images_01.tar.gz' -C './CheXNet/ChestX-ray14'"
      ]
    },
    {
      "cell_type": "code",
      "execution_count": null,
      "metadata": {
        "id": "CfgpkTYDu2Wi"
      },
      "outputs": [],
      "source": [
        "!tar -xvf 'drive/Shareddrives/Universidad/images_02.tar.gz' -C './CheXNet/ChestX-ray14'"
      ]
    },
    {
      "cell_type": "code",
      "execution_count": null,
      "metadata": {
        "id": "kdkeyHRJu3ho"
      },
      "outputs": [],
      "source": [
        "!tar -xvf 'drive/Shareddrives/Universidad/images_03.tar.gz' -C './CheXNet/ChestX-ray14'"
      ]
    },
    {
      "cell_type": "code",
      "execution_count": null,
      "metadata": {
        "id": "pYNIcfpFu4Q5"
      },
      "outputs": [],
      "source": [
        "!tar -xvf 'drive/Shareddrives/Universidad/images_04.tar.gz' -C './CheXNet/ChestX-ray14'"
      ]
    },
    {
      "cell_type": "code",
      "execution_count": null,
      "metadata": {
        "id": "Udyk0E8ou49g"
      },
      "outputs": [],
      "source": [
        "!tar -xvf 'drive/Shareddrives/Universidad/images_05.tar.gz' -C './CheXNet/ChestX-ray14'"
      ]
    },
    {
      "cell_type": "code",
      "execution_count": null,
      "metadata": {
        "id": "dUmwLZg5u5n8"
      },
      "outputs": [],
      "source": [
        "!tar -xvf 'drive/Shareddrives/Universidad/images_06.tar.gz' -C './CheXNet/ChestX-ray14'"
      ]
    },
    {
      "cell_type": "code",
      "execution_count": null,
      "metadata": {
        "id": "FlZdx5CUu6Or"
      },
      "outputs": [],
      "source": [
        "!tar -xvf 'drive/Shareddrives/Universidad/images_07.tar.gz' -C './CheXNet/ChestX-ray14'"
      ]
    },
    {
      "cell_type": "code",
      "execution_count": null,
      "metadata": {
        "id": "TyR6nxqUu7a_"
      },
      "outputs": [],
      "source": [
        "!tar -xvf 'drive/Shareddrives/Universidad/images_08.tar.gz' -C './CheXNet/ChestX-ray14'"
      ]
    },
    {
      "cell_type": "code",
      "execution_count": null,
      "metadata": {
        "id": "XTmz6c0cu8Va"
      },
      "outputs": [],
      "source": [
        "!tar -xvf 'drive/Shareddrives/Universidad/images_09.tar.gz' -C './CheXNet/ChestX-ray14'"
      ]
    },
    {
      "cell_type": "code",
      "execution_count": null,
      "metadata": {
        "id": "z1n74kxiu9K5"
      },
      "outputs": [],
      "source": [
        "!tar -xvf 'drive/Shareddrives/Universidad/images_10.tar.gz' -C './CheXNet/ChestX-ray14'"
      ]
    },
    {
      "cell_type": "code",
      "execution_count": null,
      "metadata": {
        "id": "8G-7SYJ_u-FU"
      },
      "outputs": [],
      "source": [
        "!tar -xvf 'drive/Shareddrives/Universidad/images_11.tar.gz' -C './CheXNet/ChestX-ray14'"
      ]
    },
    {
      "cell_type": "code",
      "execution_count": null,
      "metadata": {
        "id": "6zOyRlTVu-2I"
      },
      "outputs": [],
      "source": [
        "!tar -xvf 'drive/Shareddrives/Universidad/images_12.tar.gz' -C './CheXNet/ChestX-ray14'"
      ]
    },
    {
      "cell_type": "code",
      "execution_count": null,
      "metadata": {
        "colab": {
          "base_uri": "https://localhost:8080/"
        },
        "id": "sgY1pFbbz81Q",
        "outputId": "b829645e-3d48-4a23-b322-1e3e6ce477f8"
      },
      "outputs": [
        {
          "name": "stdout",
          "output_type": "stream",
          "text": [
            "python3: can't open file 'model.py': [Errno 2] No such file or directory\n"
          ]
        }
      ],
      "source": [
        "!python model.py"
      ]
    }
  ],
  "metadata": {
    "accelerator": "GPU",
    "colab": {
      "collapsed_sections": [],
      "name": "Model test",
      "provenance": [],
      "include_colab_link": true
    },
    "gpuClass": "standard",
    "kernelspec": {
      "display_name": "Python 3",
      "name": "python3"
    },
    "language_info": {
      "name": "python"
    }
  },
  "nbformat": 4,
  "nbformat_minor": 0
}